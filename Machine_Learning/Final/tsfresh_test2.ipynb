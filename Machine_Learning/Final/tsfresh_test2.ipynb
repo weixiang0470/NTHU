{
 "cells": [
  {
   "cell_type": "code",
   "execution_count": 1,
   "metadata": {
    "colab": {
     "base_uri": "https://localhost:8080/"
    },
    "executionInfo": {
     "elapsed": 25248,
     "status": "ok",
     "timestamp": 1731157366713,
     "user": {
      "displayName": "黃偉祥",
      "userId": "13009654769831747207"
     },
     "user_tz": -480
    },
    "id": "50fMjX-S1ibS",
    "outputId": "d23d6ea9-aadb-4533-d801-1e70fceabb5e"
   },
   "outputs": [],
   "source": [
    "# from google.colab import drive\n",
    "# drive.mount('/content/drive')"
   ]
  },
  {
   "cell_type": "code",
   "execution_count": 2,
   "metadata": {},
   "outputs": [],
   "source": [
    "# pip install numpy==2.0 pandas tsfresh"
   ]
  },
  {
   "cell_type": "code",
   "execution_count": 3,
   "metadata": {
    "executionInfo": {
     "elapsed": 1977,
     "status": "ok",
     "timestamp": 1731157304737,
     "user": {
      "displayName": "黃偉祥",
      "userId": "13009654769831747207"
     },
     "user_tz": -480
    },
    "id": "Naihdcht1DKP"
   },
   "outputs": [],
   "source": [
    "import numpy as np\n",
    "import csv\n",
    "import pandas as pd\n",
    "import glob\n",
    "import os\n",
    "import re"
   ]
  },
  {
   "cell_type": "code",
   "execution_count": 4,
   "metadata": {
    "colab": {
     "base_uri": "https://localhost:8080/"
    },
    "executionInfo": {
     "elapsed": 10253,
     "status": "ok",
     "timestamp": 1731157341469,
     "user": {
      "displayName": "黃偉祥",
      "userId": "13009654769831747207"
     },
     "user_tz": -480
    },
    "id": "tXnWzl1t1vXv",
    "outputId": "6674e2f0-eb21-47ce-bfd5-656974026dab"
   },
   "outputs": [],
   "source": [
    "# pip install tsfresh\n",
    "import tsfresh"
   ]
  },
  {
   "cell_type": "code",
   "execution_count": 5,
   "metadata": {},
   "outputs": [],
   "source": [
    "# os.environ[\"MallocStackLogging\"] = \"0\""
   ]
  },
  {
   "cell_type": "code",
   "execution_count": 6,
   "metadata": {
    "colab": {
     "base_uri": "https://localhost:8080/"
    },
    "executionInfo": {
     "elapsed": 6,
     "status": "ok",
     "timestamp": 1731157366713,
     "user": {
      "displayName": "黃偉祥",
      "userId": "13009654769831747207"
     },
     "user_tz": -480
    },
    "id": "33gg-tW3kMhQ",
    "outputId": "8355e7a8-01c2-43ff-dd11-bbbb5a7a018f"
   },
   "outputs": [
    {
     "name": "stdout",
     "output_type": "stream",
     "text": [
      "['/Users/wongweixiang/Desktop/Github/NTHU/Machine_Learning/Final/main_folders/koi1101.n/tremove.1.dat', '/Users/wongweixiang/Desktop/Github/NTHU/Machine_Learning/Final/main_folders/koi1101.n/tremove.2.dat', '/Users/wongweixiang/Desktop/Github/NTHU/Machine_Learning/Final/main_folders/koi1102.n/tremove.4.dat', '/Users/wongweixiang/Desktop/Github/NTHU/Machine_Learning/Final/main_folders/koi1102.n/tremove.1.dat', '/Users/wongweixiang/Desktop/Github/NTHU/Machine_Learning/Final/main_folders/koi1102.n/tremove.2.dat', '/Users/wongweixiang/Desktop/Github/NTHU/Machine_Learning/Final/main_folders/koi1102.n/tremove.3.dat', '/Users/wongweixiang/Desktop/Github/NTHU/Machine_Learning/Final/main_folders/koi1103.n/tremove.1.dat', '/Users/wongweixiang/Desktop/Github/NTHU/Machine_Learning/Final/main_folders/koi1104.n/tremove.1.dat', '/Users/wongweixiang/Desktop/Github/NTHU/Machine_Learning/Final/main_folders/koi1105.n/tremove.1.dat', '/Users/wongweixiang/Desktop/Github/NTHU/Machine_Learning/Final/main_folders/koi1106.n/tremove.1.dat', '/Users/wongweixiang/Desktop/Github/NTHU/Machine_Learning/Final/main_folders/koi1106.n/tremove.2.dat', '/Users/wongweixiang/Desktop/Github/NTHU/Machine_Learning/Final/main_folders/koi1106.n/tremove.3.dat', '/Users/wongweixiang/Desktop/Github/NTHU/Machine_Learning/Final/main_folders/koi1107.n/tremove.1.dat', '/Users/wongweixiang/Desktop/Github/NTHU/Machine_Learning/Final/main_folders/koi1108.n/tremove.1.dat', '/Users/wongweixiang/Desktop/Github/NTHU/Machine_Learning/Final/main_folders/koi1108.n/tremove.2.dat', '/Users/wongweixiang/Desktop/Github/NTHU/Machine_Learning/Final/main_folders/koi1108.n/tremove.3.dat', '/Users/wongweixiang/Desktop/Github/NTHU/Machine_Learning/Final/main_folders/koi1109.n/tremove.1.dat', '/Users/wongweixiang/Desktop/Github/NTHU/Machine_Learning/Final/main_folders/koi1110.n/tremove.1.dat', '/Users/wongweixiang/Desktop/Github/NTHU/Machine_Learning/Final/main_folders/koi1110.n/tremove.2.dat', '/Users/wongweixiang/Desktop/Github/NTHU/Machine_Learning/Final/main_folders/koi1111.n/tremove.1.dat', '/Users/wongweixiang/Desktop/Github/NTHU/Machine_Learning/Final/main_folders/koi1112.n/tremove.1.dat', '/Users/wongweixiang/Desktop/Github/NTHU/Machine_Learning/Final/main_folders/koi1113.n/tremove.1.dat', '/Users/wongweixiang/Desktop/Github/NTHU/Machine_Learning/Final/main_folders/koi1113.n/tremove.2.dat', '/Users/wongweixiang/Desktop/Github/NTHU/Machine_Learning/Final/main_folders/koi1114.n/tremove.1.dat', '/Users/wongweixiang/Desktop/Github/NTHU/Machine_Learning/Final/main_folders/koi1115.n/tremove.1.dat', '/Users/wongweixiang/Desktop/Github/NTHU/Machine_Learning/Final/main_folders/koi1116.n/tremove.1.dat', '/Users/wongweixiang/Desktop/Github/NTHU/Machine_Learning/Final/main_folders/koi1117.n/tremove.1.dat', '/Users/wongweixiang/Desktop/Github/NTHU/Machine_Learning/Final/main_folders/koi1118.n/tremove.1.dat', '/Users/wongweixiang/Desktop/Github/NTHU/Machine_Learning/Final/main_folders/koi1119.n/tremove.1.dat', '/Users/wongweixiang/Desktop/Github/NTHU/Machine_Learning/Final/main_folders/koi1119.n/tremove.2.dat', '/Users/wongweixiang/Desktop/Github/NTHU/Machine_Learning/Final/main_folders/koi1120.n/tremove.1.dat', '/Users/wongweixiang/Desktop/Github/NTHU/Machine_Learning/Final/main_folders/koi1121.n/tremove.1.dat', '/Users/wongweixiang/Desktop/Github/NTHU/Machine_Learning/Final/main_folders/koi1122.n/tremove.1.dat', '/Users/wongweixiang/Desktop/Github/NTHU/Machine_Learning/Final/main_folders/koi1123.n/tremove.1.dat', '/Users/wongweixiang/Desktop/Github/NTHU/Machine_Learning/Final/main_folders/koi1124.n/tremove.1.dat', '/Users/wongweixiang/Desktop/Github/NTHU/Machine_Learning/Final/main_folders/koi1125.n/tremove.1.dat', '/Users/wongweixiang/Desktop/Github/NTHU/Machine_Learning/Final/main_folders/koi1126.n/tremove.1.dat', '/Users/wongweixiang/Desktop/Github/NTHU/Machine_Learning/Final/main_folders/koi1126.n/tremove.2.dat']\n"
     ]
    }
   ],
   "source": [
    "# main_folder = os.path.join(os.getcwd(), 'q1q17dr25_mcmcChains')                 # Should be changed with your actual folder name\n",
    "main_folder = os.path.join(os.getcwd(), 'main_folders')\n",
    "koi_table = 'q1_q17_dr25_sup_koi.csv'                                           # Should be changed with your actual file name\n",
    "startKOI = 1101                                                                      # Should be changed\n",
    "endKOI = 1126#1126                                                                    # Should be changed\n",
    "koi_names = [f\"koi{i}.n\" for i in range(startKOI, endKOI + 1)]\n",
    "\n",
    "tremove_files = []\n",
    "\n",
    "for subfolder in koi_names:\n",
    "    search_pattern = os.path.join(main_folder, subfolder, 'tremove.*.dat')\n",
    "    tremove_files.extend(glob.glob(search_pattern))\n",
    "    # tremove_files.append(glob.glob(search_pattern))\n",
    "\n",
    "print(tremove_files)"
   ]
  },
  {
   "cell_type": "code",
   "execution_count": 7,
   "metadata": {},
   "outputs": [
    {
     "name": "stdout",
     "output_type": "stream",
     "text": [
      "38\n"
     ]
    }
   ],
   "source": [
    "print(len(tremove_files))\n",
    "# for file in tremove_files:\n",
    "#     print(file)"
   ]
  },
  {
   "cell_type": "code",
   "execution_count": 8,
   "metadata": {
    "executionInfo": {
     "elapsed": 2,
     "status": "ok",
     "timestamp": 1731157366713,
     "user": {
      "displayName": "黃偉祥",
      "userId": "13009654769831747207"
     },
     "user_tz": -480
    },
    "id": "ESxraGpLwSId"
   },
   "outputs": [],
   "source": [
    "def extract_file_number(filename):\n",
    "    match = re.search(r'tremove\\.(\\d+)\\.dat', filename)\n",
    "    return int(match.group(1)) if match else None\n",
    "\n",
    "def extract_folder_number(folder_name):\n",
    "    match = re.search(r'koi(\\d+)\\.n', folder_name)\n",
    "    return int(match.group(1)) if match else None"
   ]
  },
  {
   "cell_type": "code",
   "execution_count": 9,
   "metadata": {
    "colab": {
     "base_uri": "https://localhost:8080/"
    },
    "executionInfo": {
     "elapsed": 227356,
     "status": "ok",
     "timestamp": 1731157601686,
     "user": {
      "displayName": "黃偉祥",
      "userId": "13009654769831747207"
     },
     "user_tz": -480
    },
    "id": "iAtb2uPSrto2",
    "outputId": "69361234-109d-4369-f100-7d0f41196214"
   },
   "outputs": [
    {
     "name": "stderr",
     "output_type": "stream",
     "text": [
      "Feature Extraction: 100%|██████████| 1/1 [00:03<00:00,  3.91s/it]"
     ]
    },
    {
     "name": "stdout",
     "output_type": "stream",
     "text": [
      "CONFIRMED :  1 , FALSE POSITIVE :  0\n"
     ]
    },
    {
     "name": "stderr",
     "output_type": "stream",
     "text": [
      "\n",
      "Feature Extraction: 100%|██████████| 1/1 [00:03<00:00,  3.89s/it]"
     ]
    },
    {
     "name": "stdout",
     "output_type": "stream",
     "text": [
      "CONFIRMED :  0 , FALSE POSITIVE :  1\n"
     ]
    },
    {
     "name": "stderr",
     "output_type": "stream",
     "text": [
      "\n",
      "Feature Extraction: 100%|██████████| 1/1 [1:02:23<00:00, 3743.41s/it]\n"
     ]
    },
    {
     "name": "stdout",
     "output_type": "stream",
     "text": [
      "CONFIRMED :  1 , FALSE POSITIVE :  0\n"
     ]
    },
    {
     "name": "stderr",
     "output_type": "stream",
     "text": [
      "python(3194) MallocStackLogging: can't turn off malloc stack logging because it was not enabled.\n",
      "python(3195) MallocStackLogging: can't turn off malloc stack logging because it was not enabled.\n",
      "python(3196) MallocStackLogging: can't turn off malloc stack logging because it was not enabled.\n",
      "python(3197) MallocStackLogging: can't turn off malloc stack logging because it was not enabled.\n",
      "Feature Extraction: 100%|██████████| 1/1 [1:37:16<00:00, 5836.64s/it]\n"
     ]
    },
    {
     "name": "stdout",
     "output_type": "stream",
     "text": [
      "CONFIRMED :  1 , FALSE POSITIVE :  0\n"
     ]
    },
    {
     "name": "stderr",
     "output_type": "stream",
     "text": [
      "python(4461) MallocStackLogging: can't turn off malloc stack logging because it was not enabled.\n",
      "python(4462) MallocStackLogging: can't turn off malloc stack logging because it was not enabled.\n",
      "python(4463) MallocStackLogging: can't turn off malloc stack logging because it was not enabled.\n",
      "python(4464) MallocStackLogging: can't turn off malloc stack logging because it was not enabled.\n",
      "Feature Extraction:   0%|          | 0/1 [00:00<?, ?it/s]"
     ]
    }
   ],
   "source": [
    "for file in tremove_files:\n",
    "    df_list = []\n",
    "    \n",
    "    folder_name = os.path.basename(os.path.dirname(file))\n",
    "    folder_num = extract_folder_number(folder_name)\n",
    "    file_num = extract_file_number(file)\n",
    "    id_name = f\"K{folder_num:05}.{file_num:02}\"\n",
    "\n",
    "    df = pd.read_csv(file, delimiter='\\s+', header=None)\n",
    "    df.insert(0, 'id', id_name)\n",
    "    df = df.rename(columns={0: 'time', 1: 'light_curve', 2: 'error'})\n",
    "    print(\"ID : \",id_name)\n",
    "    features = tsfresh.extract_features(df, column_id='id', column_sort='time', column_value='light_curve')\n",
    "    # df_list.append(features)\n",
    "    # print(features)\n",
    "\n",
    "    # tremove_features = pd.concat(df_list, ignore_index=False)\n",
    "    \n",
    "    koi_df = pd.read_csv(koi_table)\n",
    "    koi_df.drop(columns='loc_rowid')\n",
    "    koi_df.index = koi_df['kepoi_name']\n",
    "\n",
    "    # filtered_koi_df = koi_df[(koi_df['kepoi_name'] >= f'K00{startKOI}.*') & (koi_df['kepoi_name'] <= f'K00{endKOI+1}.*')]\n",
    "    # candidate = filtered_koi_df[filtered_koi_df['koi_disposition'] == \"CANDIDATE\"]\n",
    "    # confirmed = filtered_koi_df[filtered_koi_df['koi_disposition'] == \"CONFIRMED\"]\n",
    "    # false_positive = filtered_koi_df[filtered_koi_df['koi_disposition'] == \"FALSE POSITIVE\"]\n",
    "    # print(\"CANDIDATE : \",len(candidate),\", CONFIRMED : \",len(confirmed),\", FALSE POSITIVE : \",len(false_positive))\n",
    "    # filtered_koi_df\n",
    "\n",
    "    features = pd.merge(features, koi_df['koi_disposition'], left_index=True, right_index=True)\n",
    "\n",
    "    features['label'] = np.where(features['koi_disposition'] == 'CONFIRMED',1,0)\n",
    "    # features['label'] = np.where(features['koi_disposition'] == 'CONFIRMED',2,\"X\")\n",
    "    # for label in features['label']:\n",
    "    #     if label == \"X\":\n",
    "    #         features['label'] = np.where(features['koi_disposition'] == 'FALSE POSITIVE',0,1)\n",
    "    features = features.drop(columns=['koi_disposition'])\n",
    "    # candidate = features[features['label'] == \"CANDIDATE\"]\n",
    "    confirmed = features[features['label'] == 1 ]\n",
    "    false_positive = features[features['label'] == 0 ]\n",
    "    print(\"CONFIRMED : \",len(confirmed),\", FALSE POSITIVE : \",len(false_positive))\n",
    "    features.to_csv(f'koi_features_{id_name}.csv', index=True)"
   ]
  },
  {
   "cell_type": "code",
   "execution_count": null,
   "metadata": {
    "colab": {
     "base_uri": "https://localhost:8080/",
     "height": 160
    },
    "executionInfo": {
     "elapsed": 14,
     "status": "ok",
     "timestamp": 1731157601687,
     "user": {
      "displayName": "黃偉祥",
      "userId": "13009654769831747207"
     },
     "user_tz": -480
    },
    "id": "UEO5mPDF1F2l",
    "outputId": "f2cc38d5-dfc0-42e2-8f91-b928e2992fea"
   },
   "outputs": [],
   "source": [
    "# tremove_features"
   ]
  },
  {
   "cell_type": "code",
   "execution_count": null,
   "metadata": {
    "executionInfo": {
     "elapsed": 453,
     "status": "ok",
     "timestamp": 1731157610174,
     "user": {
      "displayName": "黃偉祥",
      "userId": "13009654769831747207"
     },
     "user_tz": -480
    },
    "id": "tKOV03ZC1F2m"
   },
   "outputs": [],
   "source": []
  }
 ],
 "metadata": {
  "accelerator": "GPU",
  "colab": {
   "gpuType": "T4",
   "provenance": []
  },
  "kernelspec": {
   "display_name": "wwx",
   "language": "python",
   "name": "python3"
  },
  "language_info": {
   "codemirror_mode": {
    "name": "ipython",
    "version": 3
   },
   "file_extension": ".py",
   "mimetype": "text/x-python",
   "name": "python",
   "nbconvert_exporter": "python",
   "pygments_lexer": "ipython3",
   "version": "3.10.15"
  }
 },
 "nbformat": 4,
 "nbformat_minor": 0
}
